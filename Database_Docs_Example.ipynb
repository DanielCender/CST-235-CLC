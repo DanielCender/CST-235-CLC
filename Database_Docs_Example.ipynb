{
    "metadata": {
        "kernelspec": {
            "name": "SQL",
            "display_name": "SQL",
            "language": "sql"
        },
        "language_info": {
            "name": "sql",
            "version": ""
        }
    },
    "nbformat_minor": 2,
    "nbformat": 4,
    "cells": [
        {
            "cell_type": "markdown",
            "source": [
                "# CST-341 Data Definitions & Access Patterns\n",
                "\n",
                "## Contents\n",
                "\n",
                "- [Database Definitions](#schema)"
            ],
            "metadata": {
                "azdata_cell_guid": "18256c2b-b8ee-4c5d-8b23-528d286ad1a9"
            }
        },
        {
            "cell_type": "markdown",
            "source": [
                "## Schema\n",
                "\n",
                "There are only a few types in this basic database. They are listed below:\n",
                "- Book\n",
                "- Bookshelf\n",
                "- User\n",
                "- Genre\n",
                "- BookGenre\n",
                "- Address\n",
                "- UserAddress"
            ],
            "metadata": {
                "azdata_cell_guid": "dc67af6c-0bab-4b3d-93e0-672b70d0ad0b"
            }
        },
        {
            "cell_type": "code",
            "source": [
                "USE [Bookstore]\n",
                "GO\n",
                "/****** Object:  Table [dbo].[Users]    Script Date: 3/5/2020 9:11:32 PM ******/\n",
                "SET ANSI_NULLS ON\n",
                "GO\n",
                "SET QUOTED_IDENTIFIER ON\n",
                "GO\n",
                "CREATE TABLE [dbo].[Users](\n",
                "\t[UserID] [int] IDENTITY(1,1) NOT NULL,\n",
                "\t[FirstName] [varchar](50) NOT NULL,\n",
                "\t[MiddleInitial] [char](2) NOT NULL,\n",
                "\t[LastName] [varchar](50) NOT NULL,\n",
                "\t[UserName] [varchar](50) NOT NULL,\n",
                "\t[Password] [varchar](50) NOT NULL,\n",
                "\t[Email] [varchar](50) NOT NULL\n",
                ") ON [PRIMARY]\n",
                "GO\n",
                "ALTER TABLE [dbo].[Users] ADD  CONSTRAINT [PK_Users] PRIMARY KEY CLUSTERED \n",
                "(\n",
                "\t[UserID] ASC\n",
                ")WITH (PAD_INDEX = OFF, STATISTICS_NORECOMPUTE = OFF, SORT_IN_TEMPDB = OFF, IGNORE_DUP_KEY = OFF, ONLINE = OFF, ALLOW_ROW_LOCKS = ON, ALLOW_PAGE_LOCKS = ON) ON [PRIMARY]\n",
                "GO\n",
                "/****** Object:  Table [dbo].[Addresses]    Script Date: 3/5/2020 9:11:32 PM ******/\n",
                "SET ANSI_NULLS ON\n",
                "GO\n",
                "SET QUOTED_IDENTIFIER ON\n",
                "GO\n",
                "CREATE TABLE [dbo].[Addresses](\n",
                "\t[AddressID] [int] NOT NULL,\n",
                "\t[HouseNumber] [varchar](20) NOT NULL,\n",
                "\t[Street] [varchar](50) NOT NULL,\n",
                "\t[City] [varchar](100) NOT NULL,\n",
                "\t[StateOrProvince] [varchar](50) NOT NULL,\n",
                "\t[ZipCode] [varchar](12) NOT NULL,\n",
                "\t[Country] [varchar](100) NOT NULL,\n",
                "\t[UserID] [int] NULL\n",
                ") ON [PRIMARY]\n",
                "GO\n",
                "ALTER TABLE [dbo].[Addresses] ADD  CONSTRAINT [PK_Addresses] PRIMARY KEY CLUSTERED \n",
                "(\n",
                "\t[AddressID] ASC\n",
                ")WITH (PAD_INDEX = OFF, STATISTICS_NORECOMPUTE = OFF, SORT_IN_TEMPDB = OFF, IGNORE_DUP_KEY = OFF, ONLINE = OFF, ALLOW_ROW_LOCKS = ON, ALLOW_PAGE_LOCKS = ON) ON [PRIMARY]\n",
                "GO\n",
                "ALTER TABLE [dbo].[Addresses]  WITH CHECK ADD FOREIGN KEY([UserID])\n",
                "REFERENCES [dbo].[Users] ([UserID])\n",
                "GO\n",
                "ALTER TABLE [dbo].[Addresses]  WITH CHECK ADD  CONSTRAINT [FK_UserID] FOREIGN KEY([UserID])\n",
                "REFERENCES [dbo].[Users] ([UserID])\n",
                "GO\n",
                "ALTER TABLE [dbo].[Addresses] CHECK CONSTRAINT [FK_UserID]\n",
                "GO\n",
                "/***** Object: Table [dbo].[Books] *****/\n",
                "SET ANSI_NULLS ON\n",
                "GO\n",
                "SET QUOTED_IDENTIFIER ON\n",
                "GO\n",
                "CREATE TABLE [dbo].[Books](\n",
                "\t[ID] [int] IDENTITY(1,1) NOT NULL,\n",
                "\t[Title] [varchar](255) NOT NULL,\n",
                "\t[Author] [varchar](255) NOT NULL,\n",
                "\t[ISBN] [varchar](255) NOT NULL,\n",
                "\t[Publisher] [varchar](255) NOT NULL\n",
                ") ON [PRIMARY]\n",
                "GO\n",
                "ALTER TABLE [dbo].[Books] ADD PRIMARY KEY CLUSTERED \n",
                "(\n",
                "\t[ID] ASC\n",
                ")WITH (PAD_INDEX = OFF, STATISTICS_NORECOMPUTE = OFF, SORT_IN_TEMPDB = OFF, IGNORE_DUP_KEY = OFF, ONLINE = OFF, ALLOW_ROW_LOCKS = ON, ALLOW_PAGE_LOCKS = ON) ON [PRIMARY]\n",
                "GO\n",
                "\n",
                "/***** Object: Table [dbo].[Genre] *****/\n",
                "SET ANSI_NULLS ON\n",
                "GO\n",
                "SET QUOTED_IDENTIFIER ON\n",
                "GO\n",
                "CREATE TABLE Genre (\n",
                "  ID int NOT NULL PRIMARY KEY,\n",
                "  Name varchar(255) NOT NULL\n",
                ")\n",
                "/***** Object: Table [dbo].[BookGenre] *****/\n",
                "CREATE TABLE BookGenre (\n",
                "    ID int NOT NULL PRIMARY KEY,\n",
                "    BookID int FOREIGN KEY REFERENCES Books(ID),\n",
                "    GenreID int FOREIGN KEY REFERENCES Genre(ID)\n",
                ");\n",
                ""
            ],
            "metadata": {
                "azdata_cell_guid": "11e9aa21-e51f-454e-8417-b037b3cf41dc"
            },
            "outputs": [],
            "execution_count": null
        },
        {
            "cell_type": "markdown",
            "source": [
                ""
            ],
            "metadata": {
                "azdata_cell_guid": "31acce7e-a1d7-4749-b40f-b67bb504c4b2"
            }
        }
    ]
}